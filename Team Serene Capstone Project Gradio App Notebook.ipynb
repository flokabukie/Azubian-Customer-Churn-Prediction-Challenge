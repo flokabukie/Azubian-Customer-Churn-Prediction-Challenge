{
 "cells": [
  {
   "cell_type": "code",
   "execution_count": 1,
   "id": "23eb946d",
   "metadata": {},
   "outputs": [
    {
     "name": "stdout",
     "output_type": "stream",
     "text": [
      "Requirement already satisfied: gradio in c:\\users\\user\\anaconda\\lib\\site-packages (3.24.1)\n",
      "Requirement already satisfied: aiofiles in c:\\users\\user\\anaconda\\lib\\site-packages (from gradio) (23.1.0)\n",
      "Requirement already satisfied: aiohttp in c:\\users\\user\\anaconda\\lib\\site-packages (from gradio) (3.8.4)\n",
      "Requirement already satisfied: altair>=4.2.0 in c:\\users\\user\\anaconda\\lib\\site-packages (from gradio) (4.2.2)\n",
      "Requirement already satisfied: fastapi in c:\\users\\user\\anaconda\\lib\\site-packages (from gradio) (0.95.0)\n",
      "Requirement already satisfied: ffmpy in c:\\users\\user\\anaconda\\lib\\site-packages (from gradio) (0.3.0)\n",
      "Requirement already satisfied: gradio-client>=0.0.5 in c:\\users\\user\\anaconda\\lib\\site-packages (from gradio) (0.0.5)\n",
      "Requirement already satisfied: httpx in c:\\users\\user\\anaconda\\lib\\site-packages (from gradio) (0.23.3)\n",
      "Requirement already satisfied: huggingface-hub>=0.13.0 in c:\\users\\user\\anaconda\\lib\\site-packages (from gradio) (0.13.3)\n",
      "Requirement already satisfied: jinja2 in c:\\users\\user\\anaconda\\lib\\site-packages (from gradio) (2.11.3)\n",
      "Requirement already satisfied: markdown-it-py[linkify]>=2.0.0 in c:\\users\\user\\anaconda\\lib\\site-packages (from gradio) (2.2.0)\n",
      "Requirement already satisfied: markupsafe in c:\\users\\user\\anaconda\\lib\\site-packages (from gradio) (2.0.1)\n",
      "Requirement already satisfied: matplotlib in c:\\users\\user\\anaconda\\lib\\site-packages (from gradio) (3.5.2)\n",
      "Requirement already satisfied: mdit-py-plugins<=0.3.3 in c:\\users\\user\\anaconda\\lib\\site-packages (from gradio) (0.3.3)\n",
      "Requirement already satisfied: numpy in c:\\users\\user\\anaconda\\lib\\site-packages (from gradio) (1.20.1)\n",
      "Requirement already satisfied: orjson in c:\\users\\user\\anaconda\\lib\\site-packages (from gradio) (3.8.9)\n",
      "Requirement already satisfied: pandas in c:\\users\\user\\anaconda\\lib\\site-packages (from gradio) (1.4.4)\n",
      "Requirement already satisfied: pillow in c:\\users\\user\\anaconda\\lib\\site-packages (from gradio) (9.2.0)\n",
      "Requirement already satisfied: pydantic in c:\\users\\user\\anaconda\\lib\\site-packages (from gradio) (1.10.4)\n",
      "Requirement already satisfied: pydub in c:\\users\\user\\anaconda\\lib\\site-packages (from gradio) (0.25.1)\n",
      "Requirement already satisfied: python-multipart in c:\\users\\user\\anaconda\\lib\\site-packages (from gradio) (0.0.6)\n",
      "Requirement already satisfied: pyyaml in c:\\users\\user\\anaconda\\lib\\site-packages (from gradio) (6.0)\n",
      "Requirement already satisfied: requests in c:\\users\\user\\anaconda\\lib\\site-packages (from gradio) (2.28.1)\n",
      "Requirement already satisfied: semantic-version in c:\\users\\user\\anaconda\\lib\\site-packages (from gradio) (2.10.0)\n",
      "Requirement already satisfied: typing-extensions in c:\\users\\user\\anaconda\\lib\\site-packages (from gradio) (4.3.0)\n",
      "Requirement already satisfied: uvicorn in c:\\users\\user\\anaconda\\lib\\site-packages (from gradio) (0.21.1)\n",
      "Requirement already satisfied: websockets>=10.0 in c:\\users\\user\\anaconda\\lib\\site-packages (from gradio) (11.0)\n",
      "Requirement already satisfied: entrypoints in c:\\users\\user\\anaconda\\lib\\site-packages (from altair>=4.2.0->gradio) (0.4)\n",
      "Requirement already satisfied: jsonschema>=3.0 in c:\\users\\user\\anaconda\\lib\\site-packages (from altair>=4.2.0->gradio) (4.16.0)\n",
      "Requirement already satisfied: toolz in c:\\users\\user\\anaconda\\lib\\site-packages (from altair>=4.2.0->gradio) (0.11.2)\n",
      "Requirement already satisfied: fsspec in c:\\users\\user\\anaconda\\lib\\site-packages (from gradio-client>=0.0.5->gradio) (2022.7.1)\n",
      "Requirement already satisfied: packaging in c:\\users\\user\\anaconda\\lib\\site-packages (from gradio-client>=0.0.5->gradio) (21.3)\n",
      "Requirement already satisfied: filelock in c:\\users\\user\\anaconda\\lib\\site-packages (from huggingface-hub>=0.13.0->gradio) (3.6.0)\n",
      "Requirement already satisfied: tqdm>=4.42.1 in c:\\users\\user\\anaconda\\lib\\site-packages (from huggingface-hub>=0.13.0->gradio) (4.64.1)\n",
      "Requirement already satisfied: mdurl~=0.1 in c:\\users\\user\\anaconda\\lib\\site-packages (from markdown-it-py[linkify]>=2.0.0->gradio) (0.1.2)\n",
      "Requirement already satisfied: linkify-it-py<3,>=1 in c:\\users\\user\\anaconda\\lib\\site-packages (from markdown-it-py[linkify]>=2.0.0->gradio) (2.0.0)\n",
      "Requirement already satisfied: python-dateutil>=2.8.1 in c:\\users\\user\\anaconda\\lib\\site-packages (from pandas->gradio) (2.8.2)\n",
      "Requirement already satisfied: pytz>=2020.1 in c:\\users\\user\\anaconda\\lib\\site-packages (from pandas->gradio) (2022.1)\n",
      "Requirement already satisfied: attrs>=17.3.0 in c:\\users\\user\\anaconda\\lib\\site-packages (from aiohttp->gradio) (21.4.0)\n",
      "Requirement already satisfied: charset-normalizer<4.0,>=2.0 in c:\\users\\user\\anaconda\\lib\\site-packages (from aiohttp->gradio) (2.0.4)\n",
      "Requirement already satisfied: multidict<7.0,>=4.5 in c:\\users\\user\\anaconda\\lib\\site-packages (from aiohttp->gradio) (6.0.4)\n",
      "Requirement already satisfied: async-timeout<5.0,>=4.0.0a3 in c:\\users\\user\\anaconda\\lib\\site-packages (from aiohttp->gradio) (4.0.2)\n",
      "Requirement already satisfied: yarl<2.0,>=1.0 in c:\\users\\user\\anaconda\\lib\\site-packages (from aiohttp->gradio) (1.8.2)\n",
      "Requirement already satisfied: frozenlist>=1.1.1 in c:\\users\\user\\anaconda\\lib\\site-packages (from aiohttp->gradio) (1.3.3)\n",
      "Requirement already satisfied: aiosignal>=1.1.2 in c:\\users\\user\\anaconda\\lib\\site-packages (from aiohttp->gradio) (1.3.1)\n",
      "Requirement already satisfied: starlette<0.27.0,>=0.26.1 in c:\\users\\user\\anaconda\\lib\\site-packages (from fastapi->gradio) (0.26.1)\n",
      "Requirement already satisfied: certifi in c:\\users\\user\\anaconda\\lib\\site-packages (from httpx->gradio) (2022.9.14)\n",
      "Requirement already satisfied: httpcore<0.17.0,>=0.15.0 in c:\\users\\user\\anaconda\\lib\\site-packages (from httpx->gradio) (0.16.3)\n",
      "Requirement already satisfied: rfc3986[idna2008]<2,>=1.3 in c:\\users\\user\\anaconda\\lib\\site-packages (from httpx->gradio) (1.5.0)\n",
      "Requirement already satisfied: sniffio in c:\\users\\user\\anaconda\\lib\\site-packages (from httpx->gradio) (1.2.0)\n",
      "Requirement already satisfied: cycler>=0.10 in c:\\users\\user\\anaconda\\lib\\site-packages (from matplotlib->gradio) (0.11.0)\n",
      "Requirement already satisfied: fonttools>=4.22.0 in c:\\users\\user\\anaconda\\lib\\site-packages (from matplotlib->gradio) (4.25.0)\n",
      "Requirement already satisfied: kiwisolver>=1.0.1 in c:\\users\\user\\anaconda\\lib\\site-packages (from matplotlib->gradio) (1.4.2)\n",
      "Requirement already satisfied: pyparsing>=2.2.1 in c:\\users\\user\\anaconda\\lib\\site-packages (from matplotlib->gradio) (3.0.9)\n",
      "Requirement already satisfied: idna<4,>=2.5 in c:\\users\\user\\anaconda\\lib\\site-packages (from requests->gradio) (3.3)\n",
      "Requirement already satisfied: urllib3<1.27,>=1.21.1 in c:\\users\\user\\anaconda\\lib\\site-packages (from requests->gradio) (1.26.11)\n",
      "Requirement already satisfied: click>=7.0 in c:\\users\\user\\anaconda\\lib\\site-packages (from uvicorn->gradio) (8.0.4)\n",
      "Requirement already satisfied: h11>=0.8 in c:\\users\\user\\anaconda\\lib\\site-packages (from uvicorn->gradio) (0.14.0)\n",
      "Requirement already satisfied: colorama in c:\\users\\user\\anaconda\\lib\\site-packages (from click>=7.0->uvicorn->gradio) (0.4.5)\n",
      "Requirement already satisfied: anyio<5.0,>=3.0 in c:\\users\\user\\anaconda\\lib\\site-packages (from httpcore<0.17.0,>=0.15.0->httpx->gradio) (3.5.0)\n",
      "Requirement already satisfied: pyrsistent!=0.17.0,!=0.17.1,!=0.17.2,>=0.14.0 in c:\\users\\user\\anaconda\\lib\\site-packages (from jsonschema>=3.0->altair>=4.2.0->gradio) (0.18.0)\n",
      "Requirement already satisfied: uc-micro-py in c:\\users\\user\\anaconda\\lib\\site-packages (from linkify-it-py<3,>=1->markdown-it-py[linkify]>=2.0.0->gradio) (1.0.1)\n",
      "Requirement already satisfied: six>=1.5 in c:\\users\\user\\anaconda\\lib\\site-packages (from python-dateutil>=2.8.1->pandas->gradio) (1.16.0)\n"
     ]
    },
    {
     "name": "stderr",
     "output_type": "stream",
     "text": [
      "WARNING: Ignoring invalid distribution -lotly (c:\\users\\user\\anaconda\\lib\\site-packages)\n",
      "WARNING: Ignoring invalid distribution -lotly (c:\\users\\user\\anaconda\\lib\\site-packages)\n",
      "\n",
      "[notice] A new release of pip is available: 23.1.1 -> 23.1.2\n",
      "[notice] To update, run: python.exe -m pip install --upgrade pip\n"
     ]
    }
   ],
   "source": [
    "!pip install gradio"
   ]
  },
  {
   "cell_type": "code",
   "execution_count": 2,
   "id": "412dfa81",
   "metadata": {},
   "outputs": [],
   "source": [
    "import gradio as gr\n",
    "import numpy as np\n",
    "import pickle\n",
    "import pandas as pd\n",
    "from sklearn.impute import SimpleImputer\n",
    "from sklearn.preprocessing import StandardScaler \n",
    "from sklearn.preprocessing import OneHotEncoder\n",
    "import os"
   ]
  },
  {
   "cell_type": "code",
   "execution_count": 3,
   "id": "a07e71c5",
   "metadata": {},
   "outputs": [],
   "source": [
    "def load_pickle(filename):\n",
    "    with open(filename, 'rb') as file:\n",
    "        data = pickle.load(file)\n",
    "        return data\n",
    "\n",
    "pkl_file=load_pickle('modelcomponent1.pkl') \n",
    "\n",
    "\n",
    "numeric_imputer=pkl_file['numerical_imputer']\n",
    "categoric_imputer=pkl_file['categorical_imputer']\n",
    "scaler_=pkl_file['scaler']\n",
    "encoder_=pkl_file['encoder']\n",
    "best_model = pkl_file['model']\n",
    "top_pack=pkl_file['top_pack_values']"
   ]
  },
  {
   "cell_type": "code",
   "execution_count": 4,
   "id": "35eb2cbd",
   "metadata": {},
   "outputs": [],
   "source": [
    "def preprocess_data(Data_Volume, On_Net,Orange, Tigo, Regularity, Freq_Top_Pack,\n",
    "                                     Region, Tenure, Top_Pack):\n",
    "    \n",
    "    df=pd.DataFrame({\n",
    "        'Data_Volume':[Data_Volume],\n",
    "        'On_Net':[On_Net],\n",
    "        'Orange':[Orange],\n",
    "        'Tigo' :[Tigo],\n",
    "        'Regularity':[Regularity],\n",
    "        'Freq_Top_Pack':[Freq_Top_Pack],\n",
    "        'Region':[Region],\n",
    "        'Tenure' :[Tenure],\n",
    "        'Top_Pack':[Top_Pack]\n",
    "})\n",
    "    \n",
    "    # Preprocess the data\n",
    "    # Selecting categorical and numerical columns separately\n",
    "    cat_columns = df.select_dtypes(include=['object', 'category']).columns.tolist()\n",
    "    num_columns = df.select_dtypes(exclude=['object', 'category']).columns.tolist()\n",
    "    \n",
    "    \n",
    "\n",
    "    # Apply the imputers on the input data\n",
    "    \n",
    "    cat_imputer=categoric_imputer.transform(df[cat_columns])\n",
    "    num_imputer=numeric_imputer.transform(df[num_columns])\n",
    "    \n",
    "    \n",
    "    #Encode\n",
    "    cat_encode = encoder_.transform(cat_imputer)\n",
    "    cat_encoded_df = pd.DataFrame(cat_encode.toarray(), columns=encoder_.get_feature_names_out(cat_columns))\n",
    "    print(num_imputer)\n",
    "    # Scale the numerical columns\n",
    "    \n",
    "    num_scaler=scaler_.transform( num_imputer)\n",
    "    num_scaler_df=pd.DataFrame(num_scaler, columns=num_columns)\n",
    "    \n",
    "    #combined\n",
    "    df_final = pd.concat([num_scaler_df, cat_encoded_df], axis=1)\n",
    "    #print(df_final)\n",
    "    return df_final"
   ]
  },
  {
   "cell_type": "code",
   "execution_count": 5,
   "id": "e2a5fd5e",
   "metadata": {},
   "outputs": [],
   "source": [
    "def predict_churn(Data_Volume, On_Net, Orange,Tigo, Regularity, Freq_Top_Pack, Region, Tenure,  Top_Pack):\n",
    "  \n",
    "    preprocessed_data = preprocess_data(Data_Volume, On_Net,Orange, Tigo, Regularity, Freq_Top_Pack, Region, Tenure,  Top_Pack) \n",
    "    \n",
    "    # Make predictions\n",
    "    predictions = best_model.predict_proba(preprocessed_data)\n",
    "    #print(predictions)\n",
    "    return round(predictions[0][0],2), round(predictions[0][1],2)"
   ]
  },
  {
   "cell_type": "code",
   "execution_count": 25,
   "id": "e2d06ad6",
   "metadata": {},
   "outputs": [
    {
     "name": "stdout",
     "output_type": "stream",
     "text": [
      "Running on local URL:  http://127.0.0.1:7872\n",
      "\n",
      "To create a public link, set `share=True` in `launch()`.\n"
     ]
    },
    {
     "data": {
      "text/html": [
       "<div><iframe src=\"http://127.0.0.1:7872/\" width=\"100%\" height=\"500\" allow=\"autoplay; camera; microphone; clipboard-read; clipboard-write;\" frameborder=\"0\" allowfullscreen></iframe></div>"
      ],
      "text/plain": [
       "<IPython.core.display.HTML object>"
      ]
     },
     "metadata": {},
     "output_type": "display_data"
    },
    {
     "data": {
      "text/plain": []
     },
     "execution_count": 25,
     "metadata": {},
     "output_type": "execute_result"
    }
   ],
   "source": [
    "with gr.Blocks() as demo:\n",
    "        gr.Markdown('''\n",
    "        # 📞Telecom Customer Churn Prediction App ☎️ ''') \n",
    "        img=gr.Image('churncss.png')\n",
    "        gr.Markdown('''\n",
    "        \n",
    "        ## Welcome Cherished User👋 \n",
    "        \n",
    "        ### Please Predict Customer Churn 🙂''')\n",
    "        with gr.Row():\n",
    "            Region = gr.Dropdown(label='Region', choices=['DAKAR', 'DIOURBEL', 'FATICK',\n",
    "                                                  'KAFFRINE', 'KAOLACK', 'KEDOUGOU',\n",
    "                                                  'KOLDA', 'LOUGA', 'MATAM',\n",
    "                                                  'SAINT-LOUIS', 'SEDHIOU', 'TAMBACOUNDA', 'THIES', 'ZIGUINCHOR'])\n",
    "            Tenure = gr.Dropdown(label='Tenure', choices=['K > 24 month', 'I 18-21 month', 'H 15-18 month' , 'G 12-15 month',\n",
    "                                                  'J 21-24 month','F 9-12 month','E 6-9 month','D 3-6 month'])\n",
    "        Top_Pack =gr.Dropdown(label='Top_Pack', choices=top_pack)\n",
    "        with gr.Row():   \n",
    "            Data_Volume= gr.Number(label='Data_Volume')\n",
    "            On_Net=gr.Number(label='On_Net')\n",
    "            \n",
    "            Orange=gr.Number(label='Orange')\n",
    "            Tigo=gr.Number(label='Tigo')\n",
    "            Regularity=gr.Slider(label='Regularity', minimum=int(1), maximum=int(62), value=1, step=1)\n",
    "            Freq_Top_Pack=gr.Number(label='Freq_Top_Pack')\n",
    "            \n",
    "        submit_button=gr.Button('Predict')\n",
    "\n",
    "        with gr.Row():\n",
    "            with gr.Accordion('Churn Prediction'):\n",
    "                output1=gr.Slider(maximum=1,\n",
    "                             minimum=0,\n",
    "                             value=1,\n",
    "                             label='Yes')\n",
    "                output2=gr.Slider(maximum=1,\n",
    "                             minimum=0,\n",
    "                             value=1,\n",
    "                             label='No')\n",
    "    \n",
    "    \n",
    "    \n",
    "        submit_button.click(fn=predict_churn,  inputs=[ Data_Volume, On_Net, Orange, Tigo, Regularity, Freq_Top_Pack, Region, Tenure,  Top_Pack ],\n",
    "                            outputs=[output1, output2])\n",
    "    \n",
    "demo.launch()  \n"
   ]
  },
  {
   "cell_type": "code",
   "execution_count": null,
   "id": "8bcbb54c",
   "metadata": {},
   "outputs": [],
   "source": []
  }
 ],
 "metadata": {
  "kernelspec": {
   "display_name": "Python 3 (ipykernel)",
   "language": "python",
   "name": "python3"
  },
  "language_info": {
   "codemirror_mode": {
    "name": "ipython",
    "version": 3
   },
   "file_extension": ".py",
   "mimetype": "text/x-python",
   "name": "python",
   "nbconvert_exporter": "python",
   "pygments_lexer": "ipython3",
   "version": "3.9.13"
  }
 },
 "nbformat": 4,
 "nbformat_minor": 5
}
